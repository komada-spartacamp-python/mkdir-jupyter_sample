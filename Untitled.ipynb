{
 "cells": [
  {
   "cell_type": "code",
   "execution_count": 1,
   "id": "5c9ac2df",
   "metadata": {},
   "outputs": [],
   "source": [
    "x = 10\n",
    "y = 20\n"
   ]
  },
  {
   "cell_type": "code",
   "execution_count": 2,
   "id": "1270a9c5",
   "metadata": {},
   "outputs": [
    {
     "data": {
      "text/plain": [
       "10"
      ]
     },
     "execution_count": 2,
     "metadata": {},
     "output_type": "execute_result"
    }
   ],
   "source": [
    "x"
   ]
  },
  {
   "cell_type": "code",
   "execution_count": 3,
   "id": "7a652e07",
   "metadata": {},
   "outputs": [
    {
     "data": {
      "text/plain": [
       "20"
      ]
     },
     "execution_count": 3,
     "metadata": {},
     "output_type": "execute_result"
    }
   ],
   "source": [
    "y"
   ]
  },
  {
   "cell_type": "code",
   "execution_count": 6,
   "id": "5b874094",
   "metadata": {},
   "outputs": [
    {
     "data": {
      "text/plain": [
       "30"
      ]
     },
     "execution_count": 6,
     "metadata": {},
     "output_type": "execute_result"
    }
   ],
   "source": [
    "z = 30\n",
    "z"
   ]
  },
  {
   "cell_type": "code",
   "execution_count": 7,
   "id": "d03b7842",
   "metadata": {},
   "outputs": [],
   "source": [
    "l=[1,2,3,4,5]"
   ]
  },
  {
   "cell_type": "code",
   "execution_count": 8,
   "id": "fd921159",
   "metadata": {},
   "outputs": [
    {
     "data": {
      "text/plain": [
       "5"
      ]
     },
     "execution_count": 8,
     "metadata": {},
     "output_type": "execute_result"
    }
   ],
   "source": [
    "len(l)"
   ]
  },
  {
   "cell_type": "code",
   "execution_count": 12,
   "id": "3c6bcccd",
   "metadata": {},
   "outputs": [
    {
     "data": {
      "text/plain": [
       "1"
      ]
     },
     "execution_count": 12,
     "metadata": {},
     "output_type": "execute_result"
    }
   ],
   "source": [
    "import random\n",
    "random.choice(l)"
   ]
  },
  {
   "cell_type": "code",
   "execution_count": 13,
   "id": "e5651ce9",
   "metadata": {},
   "outputs": [],
   "source": [
    "random.choice?"
   ]
  },
  {
   "cell_type": "code",
   "execution_count": 14,
   "id": "aa42906e",
   "metadata": {},
   "outputs": [
    {
     "name": "stdout",
     "output_type": "stream",
     "text": [
      "README.md\n",
      "Untitled.ipynb\n"
     ]
    }
   ],
   "source": [
    "!ls"
   ]
  },
  {
   "cell_type": "code",
   "execution_count": 15,
   "id": "4c761077",
   "metadata": {},
   "outputs": [
    {
     "name": "stdout",
     "output_type": "stream",
     "text": [
      "Collecting flask\n",
      "  Using cached Flask-2.2.2-py3-none-any.whl (101 kB)\n",
      "Requirement already satisfied: Jinja2>=3.0 in c:\\users\\takak\\camp\\python\\day5\\mkdir-jupyter_sample\\.venv\\lib\\site-packages (from flask) (3.1.2)\n",
      "Collecting itsdangerous>=2.0\n",
      "  Using cached itsdangerous-2.1.2-py3-none-any.whl (15 kB)\n",
      "Collecting click>=8.0\n",
      "  Using cached click-8.1.3-py3-none-any.whl (96 kB)\n",
      "Collecting Werkzeug>=2.2.2\n",
      "  Using cached Werkzeug-2.2.2-py3-none-any.whl (232 kB)\n",
      "Requirement already satisfied: colorama in c:\\users\\takak\\camp\\python\\day5\\mkdir-jupyter_sample\\.venv\\lib\\site-packages (from click>=8.0->flask) (0.4.6)\n",
      "Requirement already satisfied: MarkupSafe>=2.0 in c:\\users\\takak\\camp\\python\\day5\\mkdir-jupyter_sample\\.venv\\lib\\site-packages (from Jinja2>=3.0->flask) (2.1.1)\n",
      "Installing collected packages: Werkzeug, itsdangerous, click, flask\n",
      "Successfully installed Werkzeug-2.2.2 click-8.1.3 flask-2.2.2 itsdangerous-2.1.2\n"
     ]
    },
    {
     "name": "stderr",
     "output_type": "stream",
     "text": [
      "\n",
      "[notice] A new release of pip available: 22.2.1 -> 22.3.1\n",
      "[notice] To update, run: python.exe -m pip install --upgrade pip\n"
     ]
    }
   ],
   "source": [
    "!pip install flask"
   ]
  },
  {
   "cell_type": "code",
   "execution_count": 16,
   "id": "522ce176",
   "metadata": {},
   "outputs": [
    {
     "name": "stdout",
     "output_type": "stream",
     "text": [
      "Note: you may need to restart the kernel to use updated packages.Package              Version\n",
      "-------------------- -----------\n",
      "anyio                3.6.2\n",
      "argon2-cffi          21.3.0\n",
      "argon2-cffi-bindings 21.2.0\n",
      "asttokens            2.1.0\n",
      "attrs                22.1.0\n",
      "backcall             0.2.0\n",
      "beautifulsoup4       4.11.1\n",
      "bleach               5.0.1\n",
      "cffi                 1.15.1\n",
      "click                8.1.3\n",
      "colorama             0.4.6\n",
      "debugpy              1.6.3\n",
      "decorator            5.1.1\n",
      "defusedxml           0.7.1\n",
      "entrypoints          0.4\n",
      "executing            1.2.0\n",
      "fastjsonschema       2.16.2\n",
      "Flask                2.2.2\n",
      "idna                 3.4\n",
      "ipykernel            6.17.1\n",
      "ipython              8.6.0\n",
      "ipython-genutils     0.2.0\n",
      "ipywidgets           8.0.2\n",
      "itsdangerous         2.1.2\n",
      "jedi                 0.18.1\n",
      "Jinja2               3.1.2\n",
      "jsonschema           4.17.0\n",
      "jupyter              1.0.0\n",
      "jupyter_client       7.4.7\n",
      "jupyter-console      6.4.4\n",
      "jupyter_core         5.0.0\n",
      "jupyter-server       1.23.2\n",
      "jupyterlab-pygments  0.2.2\n",
      "jupyterlab-widgets   3.0.3\n",
      "MarkupSafe           2.1.1\n",
      "matplotlib-inline    0.1.6\n",
      "mistune              2.0.4\n",
      "nbclassic            0.4.8\n",
      "nbclient             0.7.0\n",
      "nbconvert            7.2.5\n",
      "nbformat             5.7.0\n",
      "nest-asyncio         1.5.6\n",
      "notebook             6.5.2\n",
      "notebook_shim        0.2.2\n",
      "packaging            21.3\n",
      "pandocfilters        1.5.0\n",
      "parso                0.8.3\n",
      "pickleshare          0.7.5\n",
      "pip                  22.2.1\n",
      "platformdirs         2.5.4\n",
      "prometheus-client    0.15.0\n",
      "prompt-toolkit       3.0.32\n",
      "psutil               5.9.4\n",
      "pure-eval            0.2.2\n",
      "pycparser            2.21\n",
      "Pygments             2.13.0\n",
      "pyparsing            3.0.9\n",
      "pyrsistent           0.19.2\n",
      "python-dateutil      2.8.2\n",
      "pywin32              305\n",
      "pywinpty             2.0.9\n",
      "pyzmq                24.0.1\n",
      "qtconsole            5.4.0\n",
      "QtPy                 2.3.0\n",
      "Send2Trash           1.8.0\n",
      "setuptools           63.2.0\n",
      "six                  1.16.0\n",
      "sniffio              1.3.0\n",
      "soupsieve            2.3.2.post1\n",
      "stack-data           0.6.1\n",
      "terminado            0.17.0\n",
      "tinycss2             1.2.1\n",
      "tornado              6.2\n",
      "traitlets            5.5.0\n",
      "wcwidth              0.2.5\n",
      "webencodings         0.5.1\n",
      "websocket-client     1.4.2\n",
      "Werkzeug             2.2.2\n",
      "widgetsnbextension   4.0.3\n",
      "\n"
     ]
    },
    {
     "name": "stderr",
     "output_type": "stream",
     "text": [
      "\n",
      "[notice] A new release of pip available: 22.2.1 -> 22.3.1\n",
      "[notice] To update, run: python.exe -m pip install --upgrade pip\n"
     ]
    }
   ],
   "source": [
    "pip list\n"
   ]
  },
  {
   "cell_type": "code",
   "execution_count": 17,
   "id": "4f42484a",
   "metadata": {},
   "outputs": [
    {
     "name": "stdout",
     "output_type": "stream",
     "text": [
      "CPU times: total: 15.6 ms\n",
      "Wall time: 26 ms\n"
     ]
    },
    {
     "data": {
      "text/plain": [
       "499999500000"
      ]
     },
     "execution_count": 17,
     "metadata": {},
     "output_type": "execute_result"
    }
   ],
   "source": [
    "%time sum(range(1000000))"
   ]
  },
  {
   "cell_type": "code",
   "execution_count": null,
   "id": "93976ae4",
   "metadata": {},
   "outputs": [],
   "source": []
  }
 ],
 "metadata": {
  "kernelspec": {
   "display_name": "Python 3.10.6 64-bit",
   "language": "python",
   "name": "python3"
  },
  "language_info": {
   "codemirror_mode": {
    "name": "ipython",
    "version": 3
   },
   "file_extension": ".py",
   "mimetype": "text/x-python",
   "name": "python",
   "nbconvert_exporter": "python",
   "pygments_lexer": "ipython3",
   "version": "3.10.6"
  },
  "vscode": {
   "interpreter": {
    "hash": "ecdbdc1d90de1f9c66c6ae03e2532ac63e3929a85b454ec6213b5ad996962a02"
   }
  }
 },
 "nbformat": 4,
 "nbformat_minor": 5
}
