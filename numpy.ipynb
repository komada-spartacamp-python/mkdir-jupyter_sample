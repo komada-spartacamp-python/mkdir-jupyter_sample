{
 "cells": [
  {
   "cell_type": "code",
   "execution_count": 1,
   "id": "c04f6738",
   "metadata": {},
   "outputs": [
    {
     "data": {
      "text/plain": [
       "[11, 22, 33]"
      ]
     },
     "execution_count": 1,
     "metadata": {},
     "output_type": "execute_result"
    }
   ],
   "source": [
    "l =[11,22,33]\n",
    "l"
   ]
  },
  {
   "cell_type": "code",
   "execution_count": 2,
   "id": "1a7b4f3f",
   "metadata": {},
   "outputs": [
    {
     "data": {
      "text/plain": [
       "list"
      ]
     },
     "execution_count": 2,
     "metadata": {},
     "output_type": "execute_result"
    }
   ],
   "source": [
    "type(l)"
   ]
  },
  {
   "cell_type": "code",
   "execution_count": 4,
   "id": "0eee3783",
   "metadata": {},
   "outputs": [
    {
     "data": {
      "text/plain": [
       "int"
      ]
     },
     "execution_count": 4,
     "metadata": {},
     "output_type": "execute_result"
    }
   ],
   "source": [
    "type(l[0])"
   ]
  },
  {
   "cell_type": "code",
   "execution_count": 5,
   "id": "dc0d7851",
   "metadata": {},
   "outputs": [],
   "source": [
    "import numpy as np"
   ]
  },
  {
   "cell_type": "code",
   "execution_count": 6,
   "id": "93084b96",
   "metadata": {},
   "outputs": [
    {
     "data": {
      "text/plain": [
       "array([11, 22, 33])"
      ]
     },
     "execution_count": 6,
     "metadata": {},
     "output_type": "execute_result"
    }
   ],
   "source": [
    "x = np.array([11,22,33])\n",
    "x"
   ]
  },
  {
   "cell_type": "code",
   "execution_count": 7,
   "id": "cf6f718b",
   "metadata": {},
   "outputs": [
    {
     "data": {
      "text/plain": [
       "numpy.ndarray"
      ]
     },
     "execution_count": 7,
     "metadata": {},
     "output_type": "execute_result"
    }
   ],
   "source": [
    "type(x)"
   ]
  },
  {
   "cell_type": "code",
   "execution_count": 8,
   "id": "8e3db9bc",
   "metadata": {},
   "outputs": [
    {
     "data": {
      "text/plain": [
       "numpy.int32"
      ]
     },
     "execution_count": 8,
     "metadata": {},
     "output_type": "execute_result"
    }
   ],
   "source": [
    "type(x[0])"
   ]
  },
  {
   "cell_type": "code",
   "execution_count": 10,
   "id": "9e3fb1ac",
   "metadata": {},
   "outputs": [
    {
     "data": {
      "text/html": [
       "<div>\n",
       "<style scoped>\n",
       "    .dataframe tbody tr th:only-of-type {\n",
       "        vertical-align: middle;\n",
       "    }\n",
       "\n",
       "    .dataframe tbody tr th {\n",
       "        vertical-align: top;\n",
       "    }\n",
       "\n",
       "    .dataframe thead th {\n",
       "        text-align: right;\n",
       "    }\n",
       "</style>\n",
       "<table border=\"1\" class=\"dataframe\">\n",
       "  <thead>\n",
       "    <tr style=\"text-align: right;\">\n",
       "      <th></th>\n",
       "      <th>都道府県</th>\n",
       "      <th>総人口</th>\n",
       "      <th>総人口(男)</th>\n",
       "      <th>総人口(女)</th>\n",
       "      <th>日本人口</th>\n",
       "      <th>外国人人口</th>\n",
       "      <th>総面積</th>\n",
       "      <th>可住地面積</th>\n",
       "      <th>県内総生産額</th>\n",
       "      <th>県民取得</th>\n",
       "      <th>...</th>\n",
       "      <th>コンビニ数</th>\n",
       "      <th>飲食店数</th>\n",
       "      <th>公衆浴場数</th>\n",
       "      <th>一般病院数</th>\n",
       "      <th>薬局数</th>\n",
       "      <th>世帯主の配偶者の収入</th>\n",
       "      <th>消費支出</th>\n",
       "      <th>住居費</th>\n",
       "      <th>光熱・水道費</th>\n",
       "      <th>教育費</th>\n",
       "    </tr>\n",
       "  </thead>\n",
       "  <tbody>\n",
       "    <tr>\n",
       "      <th>0</th>\n",
       "      <td>北海道</td>\n",
       "      <td>5250000</td>\n",
       "      <td>2472000</td>\n",
       "      <td>2778000</td>\n",
       "      <td>5211000</td>\n",
       "      <td>21676</td>\n",
       "      <td>83456.87</td>\n",
       "      <td>22699.23</td>\n",
       "      <td>194301</td>\n",
       "      <td>142696</td>\n",
       "      <td>...</td>\n",
       "      <td>2194</td>\n",
       "      <td>26585</td>\n",
       "      <td>256</td>\n",
       "      <td>484</td>\n",
       "      <td>2333</td>\n",
       "      <td>73207</td>\n",
       "      <td>334015</td>\n",
       "      <td>27305</td>\n",
       "      <td>27309</td>\n",
       "      <td>9394</td>\n",
       "    </tr>\n",
       "    <tr>\n",
       "      <th>1</th>\n",
       "      <td>青森県</td>\n",
       "      <td>1246000</td>\n",
       "      <td>585000</td>\n",
       "      <td>661000</td>\n",
       "      <td>1240000</td>\n",
       "      <td>3447</td>\n",
       "      <td>9644.54</td>\n",
       "      <td>3253.19</td>\n",
       "      <td>44432</td>\n",
       "      <td>31833</td>\n",
       "      <td>...</td>\n",
       "      <td>404</td>\n",
       "      <td>6744</td>\n",
       "      <td>287</td>\n",
       "      <td>77</td>\n",
       "      <td>619</td>\n",
       "      <td>83166</td>\n",
       "      <td>278356</td>\n",
       "      <td>18537</td>\n",
       "      <td>27837</td>\n",
       "      <td>3841</td>\n",
       "    </tr>\n",
       "    <tr>\n",
       "      <th>2</th>\n",
       "      <td>岩手県</td>\n",
       "      <td>1227000</td>\n",
       "      <td>592000</td>\n",
       "      <td>635000</td>\n",
       "      <td>1219000</td>\n",
       "      <td>5017</td>\n",
       "      <td>15278.89</td>\n",
       "      <td>3751.37</td>\n",
       "      <td>46512</td>\n",
       "      <td>34779</td>\n",
       "      <td>...</td>\n",
       "      <td>398</td>\n",
       "      <td>5668</td>\n",
       "      <td>18</td>\n",
       "      <td>76</td>\n",
       "      <td>605</td>\n",
       "      <td>113215</td>\n",
       "      <td>293157</td>\n",
       "      <td>24850</td>\n",
       "      <td>27129</td>\n",
       "      <td>6573</td>\n",
       "    </tr>\n",
       "    <tr>\n",
       "      <th>3</th>\n",
       "      <td>宮城県</td>\n",
       "      <td>2306000</td>\n",
       "      <td>1127000</td>\n",
       "      <td>1179000</td>\n",
       "      <td>2283000</td>\n",
       "      <td>13989</td>\n",
       "      <td>7285.76</td>\n",
       "      <td>3185.91</td>\n",
       "      <td>94639</td>\n",
       "      <td>68388</td>\n",
       "      <td>...</td>\n",
       "      <td>777</td>\n",
       "      <td>9560</td>\n",
       "      <td>7</td>\n",
       "      <td>112</td>\n",
       "      <td>1165</td>\n",
       "      <td>51130</td>\n",
       "      <td>285393</td>\n",
       "      <td>24121</td>\n",
       "      <td>22717</td>\n",
       "      <td>6955</td>\n",
       "    </tr>\n",
       "    <tr>\n",
       "      <th>4</th>\n",
       "      <td>秋田県</td>\n",
       "      <td>966000</td>\n",
       "      <td>454000</td>\n",
       "      <td>512000</td>\n",
       "      <td>963000</td>\n",
       "      <td>2914</td>\n",
       "      <td>11636.25</td>\n",
       "      <td>3233.34</td>\n",
       "      <td>35630</td>\n",
       "      <td>26876</td>\n",
       "      <td>...</td>\n",
       "      <td>309</td>\n",
       "      <td>4704</td>\n",
       "      <td>13</td>\n",
       "      <td>52</td>\n",
       "      <td>521</td>\n",
       "      <td>102944</td>\n",
       "      <td>300312</td>\n",
       "      <td>14661</td>\n",
       "      <td>25743</td>\n",
       "      <td>4394</td>\n",
       "    </tr>\n",
       "  </tbody>\n",
       "</table>\n",
       "<p>5 rows × 33 columns</p>\n",
       "</div>"
      ],
      "text/plain": [
       "  都道府県      総人口   総人口(男)   総人口(女)     日本人口  外国人人口       総面積     可住地面積  県内総生産額  \\\n",
       "0  北海道  5250000  2472000  2778000  5211000  21676  83456.87  22699.23  194301   \n",
       "1  青森県  1246000   585000   661000  1240000   3447   9644.54   3253.19   44432   \n",
       "2  岩手県  1227000   592000   635000  1219000   5017  15278.89   3751.37   46512   \n",
       "3  宮城県  2306000  1127000  1179000  2283000  13989   7285.76   3185.91   94639   \n",
       "4  秋田県   966000   454000   512000   963000   2914  11636.25   3233.34   35630   \n",
       "\n",
       "     県民取得  ...  コンビニ数   飲食店数  公衆浴場数  一般病院数   薬局数  世帯主の配偶者の収入    消費支出    住居費  \\\n",
       "0  142696  ...   2194  26585    256    484  2333       73207  334015  27305   \n",
       "1   31833  ...    404   6744    287     77   619       83166  278356  18537   \n",
       "2   34779  ...    398   5668     18     76   605      113215  293157  24850   \n",
       "3   68388  ...    777   9560      7    112  1165       51130  285393  24121   \n",
       "4   26876  ...    309   4704     13     52   521      102944  300312  14661   \n",
       "\n",
       "   光熱・水道費   教育費  \n",
       "0   27309  9394  \n",
       "1   27837  3841  \n",
       "2   27129  6573  \n",
       "3   22717  6955  \n",
       "4   25743  4394  \n",
       "\n",
       "[5 rows x 33 columns]"
      ]
     },
     "execution_count": 10,
     "metadata": {},
     "output_type": "execute_result"
    }
   ],
   "source": [
    "import pandas as pd\n",
    "df = pd.read_csv(\"sample_data_01.csv\")\n",
    "df.head()"
   ]
  },
  {
   "cell_type": "code",
   "execution_count": 12,
   "id": "324f2eec",
   "metadata": {},
   "outputs": [
    {
     "data": {
      "text/plain": [
       "0    142696\n",
       "1     31833\n",
       "2     34779\n",
       "3     68388\n",
       "4     26876\n",
       "Name: 県民取得, dtype: int64"
      ]
     },
     "execution_count": 12,
     "metadata": {},
     "output_type": "execute_result"
    }
   ],
   "source": [
    "df[\"県民取得\"].head()"
   ]
  },
  {
   "cell_type": "code",
   "execution_count": 13,
   "id": "78e5cf97",
   "metadata": {},
   "outputs": [
    {
     "data": {
      "text/plain": [
       "142696"
      ]
     },
     "execution_count": 13,
     "metadata": {},
     "output_type": "execute_result"
    }
   ],
   "source": [
    "df[\"県民取得\"][0]"
   ]
  },
  {
   "cell_type": "code",
   "execution_count": 14,
   "id": "ab1675b0",
   "metadata": {},
   "outputs": [
    {
     "data": {
      "text/plain": [
       "numpy.int64"
      ]
     },
     "execution_count": 14,
     "metadata": {},
     "output_type": "execute_result"
    }
   ],
   "source": [
    "type(df[\"県民取得\"][0])"
   ]
  },
  {
   "cell_type": "code",
   "execution_count": 15,
   "id": "e082172d",
   "metadata": {},
   "outputs": [
    {
     "data": {
      "text/plain": [
       "numpy.ndarray"
      ]
     },
     "execution_count": 15,
     "metadata": {},
     "output_type": "execute_result"
    }
   ],
   "source": [
    "type(df[\"県民取得\"].values)"
   ]
  },
  {
   "cell_type": "code",
   "execution_count": 17,
   "id": "d90f38c2",
   "metadata": {},
   "outputs": [
    {
     "ename": "AttributeError",
     "evalue": "'str' object has no attribute 'values'",
     "output_type": "error",
     "traceback": [
      "\u001b[1;31m---------------------------------------------------------------------------\u001b[0m",
      "\u001b[1;31mAttributeError\u001b[0m                            Traceback (most recent call last)",
      "Cell \u001b[1;32mIn [17], line 1\u001b[0m\n\u001b[1;32m----> 1\u001b[0m df[\u001b[38;5;124;43m\"\u001b[39;49m\u001b[38;5;124;43m県民取得\u001b[39;49m\u001b[38;5;124;43m\"\u001b[39;49m\u001b[38;5;241;43m.\u001b[39;49m\u001b[43mvalues\u001b[49m]\n",
      "\u001b[1;31mAttributeError\u001b[0m: 'str' object has no attribute 'values'"
     ]
    }
   ],
   "source": [
    "df[\"県民取得\".values]"
   ]
  },
  {
   "cell_type": "code",
   "execution_count": 18,
   "id": "95dbabe2",
   "metadata": {},
   "outputs": [],
   "source": [
    "x = np.array([11,22,33,44,55])"
   ]
  },
  {
   "cell_type": "code",
   "execution_count": 19,
   "id": "86f0ac84",
   "metadata": {},
   "outputs": [
    {
     "data": {
      "text/plain": [
       "55"
      ]
     },
     "execution_count": 19,
     "metadata": {},
     "output_type": "execute_result"
    }
   ],
   "source": [
    "x.max()"
   ]
  },
  {
   "cell_type": "code",
   "execution_count": 21,
   "id": "424a59e1",
   "metadata": {},
   "outputs": [
    {
     "data": {
      "text/plain": [
       "11"
      ]
     },
     "execution_count": 21,
     "metadata": {},
     "output_type": "execute_result"
    }
   ],
   "source": [
    "x.min()"
   ]
  },
  {
   "cell_type": "code",
   "execution_count": 22,
   "id": "820284fb",
   "metadata": {},
   "outputs": [
    {
     "data": {
      "text/plain": [
       "165"
      ]
     },
     "execution_count": 22,
     "metadata": {},
     "output_type": "execute_result"
    }
   ],
   "source": [
    "x.sum()"
   ]
  },
  {
   "cell_type": "code",
   "execution_count": 23,
   "id": "13838b96",
   "metadata": {},
   "outputs": [
    {
     "data": {
      "text/plain": [
       "33.0"
      ]
     },
     "execution_count": 23,
     "metadata": {},
     "output_type": "execute_result"
    }
   ],
   "source": [
    "x.mean()"
   ]
  },
  {
   "cell_type": "code",
   "execution_count": 24,
   "id": "feb31aa8",
   "metadata": {},
   "outputs": [
    {
     "data": {
      "text/plain": [
       "2684404.255319149"
      ]
     },
     "execution_count": 24,
     "metadata": {},
     "output_type": "execute_result"
    }
   ],
   "source": [
    "df[\"総人口\"].values.mean()"
   ]
  },
  {
   "cell_type": "code",
   "execution_count": 25,
   "id": "d9f710a9",
   "metadata": {},
   "outputs": [
    {
     "data": {
      "text/plain": [
       "89068.17021276595"
      ]
     },
     "execution_count": 25,
     "metadata": {},
     "output_type": "execute_result"
    }
   ],
   "source": [
    "df[\"県民取得\"].values.mean()"
   ]
  },
  {
   "cell_type": "code",
   "execution_count": 27,
   "id": "d3b7dc6f",
   "metadata": {},
   "outputs": [
    {
     "data": {
      "text/plain": [
       "array([[1, 2, 3],\n",
       "       [4, 5, 6]])"
      ]
     },
     "execution_count": 27,
     "metadata": {},
     "output_type": "execute_result"
    }
   ],
   "source": [
    "x = np.array([[1,2,3],[4,5,6]])\n",
    "x"
   ]
  },
  {
   "cell_type": "code",
   "execution_count": 28,
   "id": "d98a8dad",
   "metadata": {},
   "outputs": [
    {
     "data": {
      "text/plain": [
       "(2, 3)"
      ]
     },
     "execution_count": 28,
     "metadata": {},
     "output_type": "execute_result"
    }
   ],
   "source": [
    "x.shape"
   ]
  },
  {
   "cell_type": "code",
   "execution_count": 31,
   "id": "d2f99710",
   "metadata": {},
   "outputs": [
    {
     "data": {
      "text/plain": [
       "array([ 0,  1,  2,  3,  4,  5,  6,  7,  8,  9, 10])"
      ]
     },
     "execution_count": 31,
     "metadata": {},
     "output_type": "execute_result"
    }
   ],
   "source": [
    "x = np.arange(11)\n",
    "x"
   ]
  },
  {
   "cell_type": "code",
   "execution_count": 32,
   "id": "a832897d",
   "metadata": {},
   "outputs": [
    {
     "data": {
      "text/plain": [
       "array([ 1,  2,  3,  4,  5,  6,  7,  8,  9, 10])"
      ]
     },
     "execution_count": 32,
     "metadata": {},
     "output_type": "execute_result"
    }
   ],
   "source": [
    "x = np.arange(1,11)\n",
    "x"
   ]
  },
  {
   "cell_type": "code",
   "execution_count": 33,
   "id": "2ef2ea23",
   "metadata": {},
   "outputs": [
    {
     "data": {
      "text/plain": [
       "array([[ 1,  2,  3,  4,  5],\n",
       "       [ 6,  7,  8,  9, 10]])"
      ]
     },
     "execution_count": 33,
     "metadata": {},
     "output_type": "execute_result"
    }
   ],
   "source": [
    "x = np.arange(1,11).reshape(2,5)\n",
    "x"
   ]
  },
  {
   "cell_type": "code",
   "execution_count": 36,
   "id": "6958d09b",
   "metadata": {},
   "outputs": [
    {
     "data": {
      "text/plain": [
       "array([0. , 0.5, 1. , 1.5])"
      ]
     },
     "execution_count": 36,
     "metadata": {},
     "output_type": "execute_result"
    }
   ],
   "source": [
    "x = np.arange(0,2,0.5)\n",
    "x"
   ]
  },
  {
   "cell_type": "code",
   "execution_count": 38,
   "id": "5da53d96",
   "metadata": {},
   "outputs": [],
   "source": [
    "x = np.arange(1,11,2)\n",
    "y = np.arange(1,6)"
   ]
  },
  {
   "cell_type": "code",
   "execution_count": 39,
   "id": "84013f64",
   "metadata": {},
   "outputs": [
    {
     "data": {
      "text/plain": [
       "array([1, 3, 5, 7, 9])"
      ]
     },
     "execution_count": 39,
     "metadata": {},
     "output_type": "execute_result"
    }
   ],
   "source": [
    "x"
   ]
  },
  {
   "cell_type": "code",
   "execution_count": 40,
   "id": "9ff34408",
   "metadata": {},
   "outputs": [
    {
     "data": {
      "text/plain": [
       "array([1, 2, 3, 4, 5])"
      ]
     },
     "execution_count": 40,
     "metadata": {},
     "output_type": "execute_result"
    }
   ],
   "source": [
    "y"
   ]
  },
  {
   "cell_type": "code",
   "execution_count": 41,
   "id": "c7b16c53",
   "metadata": {},
   "outputs": [
    {
     "data": {
      "text/plain": [
       "array([1, 3, 5, 7, 9, 1, 2, 3, 4, 5])"
      ]
     },
     "execution_count": 41,
     "metadata": {},
     "output_type": "execute_result"
    }
   ],
   "source": [
    "np.append(x,y)"
   ]
  },
  {
   "cell_type": "code",
   "execution_count": 42,
   "id": "3d77978e",
   "metadata": {},
   "outputs": [
    {
     "data": {
      "text/plain": [
       "array([[1, 3, 5, 7, 9],\n",
       "       [1, 2, 3, 4, 5]])"
      ]
     },
     "execution_count": 42,
     "metadata": {},
     "output_type": "execute_result"
    }
   ],
   "source": [
    "np.vstack([x,y])"
   ]
  },
  {
   "cell_type": "code",
   "execution_count": 43,
   "id": "587cee34",
   "metadata": {},
   "outputs": [
    {
     "data": {
      "text/plain": [
       "array([ 2,  5,  8, 11, 14])"
      ]
     },
     "execution_count": 43,
     "metadata": {},
     "output_type": "execute_result"
    }
   ],
   "source": [
    "x + y"
   ]
  },
  {
   "cell_type": "code",
   "execution_count": 44,
   "id": "b0626b11",
   "metadata": {},
   "outputs": [
    {
     "data": {
      "text/plain": [
       "array([False,  True,  True,  True,  True])"
      ]
     },
     "execution_count": 44,
     "metadata": {},
     "output_type": "execute_result"
    }
   ],
   "source": [
    "x > y"
   ]
  },
  {
   "cell_type": "code",
   "execution_count": 45,
   "id": "3f03e7a4",
   "metadata": {},
   "outputs": [
    {
     "data": {
      "text/plain": [
       "array([0, 1, 2, 3, 4])"
      ]
     },
     "execution_count": 45,
     "metadata": {},
     "output_type": "execute_result"
    }
   ],
   "source": [
    "x - y"
   ]
  },
  {
   "cell_type": "code",
   "execution_count": 46,
   "id": "81919256",
   "metadata": {},
   "outputs": [
    {
     "data": {
      "text/plain": [
       "(5,)"
      ]
     },
     "execution_count": 46,
     "metadata": {},
     "output_type": "execute_result"
    }
   ],
   "source": [
    "x.shape\n"
   ]
  },
  {
   "cell_type": "code",
   "execution_count": 47,
   "id": "eba18e60",
   "metadata": {},
   "outputs": [
    {
     "data": {
      "text/plain": [
       "(5,)"
      ]
     },
     "execution_count": 47,
     "metadata": {},
     "output_type": "execute_result"
    }
   ],
   "source": [
    "y.shape\n"
   ]
  },
  {
   "cell_type": "code",
   "execution_count": null,
   "id": "47b6a598",
   "metadata": {},
   "outputs": [],
   "source": []
  }
 ],
 "metadata": {
  "kernelspec": {
   "display_name": "Python 3 (ipykernel)",
   "language": "python",
   "name": "python3"
  },
  "language_info": {
   "codemirror_mode": {
    "name": "ipython",
    "version": 3
   },
   "file_extension": ".py",
   "mimetype": "text/x-python",
   "name": "python",
   "nbconvert_exporter": "python",
   "pygments_lexer": "ipython3",
   "version": "3.10.6"
  }
 },
 "nbformat": 4,
 "nbformat_minor": 5
}
